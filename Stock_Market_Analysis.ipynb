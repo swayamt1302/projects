{
 "cells": [
  {
   "cell_type": "code",
   "execution_count": 3,
   "id": "83106d28",
   "metadata": {},
   "outputs": [],
   "source": [
    "import pandas as pd\n",
    "import numpy as np\n",
    "import matplotlib.pyplot as ptl\n"
   ]
  },
  {
   "cell_type": "code",
   "execution_count": 4,
   "id": "ae338ff9",
   "metadata": {},
   "outputs": [],
   "source": [
    "import yfinance as yf"
   ]
  },
  {
   "cell_type": "code",
   "execution_count": 5,
   "id": "6081237d",
   "metadata": {},
   "outputs": [],
   "source": [
    "data = yf.Ticker('HDFCBANK.NS')"
   ]
  },
  {
   "cell_type": "markdown",
   "id": "6679e8c0",
   "metadata": {},
   "source": [
    "## Code for getting today's date"
   ]
  },
  {
   "cell_type": "code",
   "execution_count": 5,
   "id": "c2350443",
   "metadata": {},
   "outputs": [],
   "source": [
    "# from datetime import date\n",
    "# date = date.today()\n",
    "# date = date.strftime('%Y-%m-%d')\n",
    "# date"
   ]
  },
  {
   "cell_type": "markdown",
   "id": "7bc3fc69",
   "metadata": {},
   "source": [
    "## Opening dataframe"
   ]
  },
  {
   "cell_type": "code",
   "execution_count": 6,
   "id": "b3b64fe5",
   "metadata": {},
   "outputs": [],
   "source": [
    "df = data.history(start=\"2021-01-01\", end=\"2022-01-01\")"
   ]
  },
  {
   "cell_type": "code",
   "execution_count": 7,
   "id": "c6e6555d",
   "metadata": {},
   "outputs": [
    {
     "data": {
      "text/html": [
       "<div>\n",
       "<style scoped>\n",
       "    .dataframe tbody tr th:only-of-type {\n",
       "        vertical-align: middle;\n",
       "    }\n",
       "\n",
       "    .dataframe tbody tr th {\n",
       "        vertical-align: top;\n",
       "    }\n",
       "\n",
       "    .dataframe thead th {\n",
       "        text-align: right;\n",
       "    }\n",
       "</style>\n",
       "<table border=\"1\" class=\"dataframe\">\n",
       "  <thead>\n",
       "    <tr style=\"text-align: right;\">\n",
       "      <th></th>\n",
       "      <th>Open</th>\n",
       "      <th>High</th>\n",
       "      <th>Low</th>\n",
       "      <th>Close</th>\n",
       "      <th>Volume</th>\n",
       "      <th>Dividends</th>\n",
       "      <th>Stock Splits</th>\n",
       "    </tr>\n",
       "    <tr>\n",
       "      <th>Date</th>\n",
       "      <th></th>\n",
       "      <th></th>\n",
       "      <th></th>\n",
       "      <th></th>\n",
       "      <th></th>\n",
       "      <th></th>\n",
       "      <th></th>\n",
       "    </tr>\n",
       "  </thead>\n",
       "  <tbody>\n",
       "    <tr>\n",
       "      <th>2021-01-01</th>\n",
       "      <td>1433.794585</td>\n",
       "      <td>1436.781657</td>\n",
       "      <td>1414.478161</td>\n",
       "      <td>1418.909058</td>\n",
       "      <td>4405469</td>\n",
       "      <td>0.0</td>\n",
       "      <td>0</td>\n",
       "    </tr>\n",
       "    <tr>\n",
       "      <th>2021-01-04</th>\n",
       "      <td>1431.803143</td>\n",
       "      <td>1431.803143</td>\n",
       "      <td>1392.971208</td>\n",
       "      <td>1409.897949</td>\n",
       "      <td>7870096</td>\n",
       "      <td>0.0</td>\n",
       "      <td>0</td>\n",
       "    </tr>\n",
       "    <tr>\n",
       "      <th>2021-01-05</th>\n",
       "      <td>1413.084078</td>\n",
       "      <td>1424.584353</td>\n",
       "      <td>1402.928082</td>\n",
       "      <td>1420.551758</td>\n",
       "      <td>7193412</td>\n",
       "      <td>0.0</td>\n",
       "      <td>0</td>\n",
       "    </tr>\n",
       "    <tr>\n",
       "      <th>2021-01-06</th>\n",
       "      <td>1428.816025</td>\n",
       "      <td>1433.794478</td>\n",
       "      <td>1407.010377</td>\n",
       "      <td>1414.428345</td>\n",
       "      <td>11067025</td>\n",
       "      <td>0.0</td>\n",
       "      <td>0</td>\n",
       "    </tr>\n",
       "    <tr>\n",
       "      <th>2021-01-07</th>\n",
       "      <td>1426.326823</td>\n",
       "      <td>1426.426368</td>\n",
       "      <td>1406.462844</td>\n",
       "      <td>1410.146851</td>\n",
       "      <td>9947421</td>\n",
       "      <td>0.0</td>\n",
       "      <td>0</td>\n",
       "    </tr>\n",
       "  </tbody>\n",
       "</table>\n",
       "</div>"
      ],
      "text/plain": [
       "                   Open         High          Low        Close    Volume  \\\n",
       "Date                                                                       \n",
       "2021-01-01  1433.794585  1436.781657  1414.478161  1418.909058   4405469   \n",
       "2021-01-04  1431.803143  1431.803143  1392.971208  1409.897949   7870096   \n",
       "2021-01-05  1413.084078  1424.584353  1402.928082  1420.551758   7193412   \n",
       "2021-01-06  1428.816025  1433.794478  1407.010377  1414.428345  11067025   \n",
       "2021-01-07  1426.326823  1426.426368  1406.462844  1410.146851   9947421   \n",
       "\n",
       "            Dividends  Stock Splits  \n",
       "Date                                 \n",
       "2021-01-01        0.0             0  \n",
       "2021-01-04        0.0             0  \n",
       "2021-01-05        0.0             0  \n",
       "2021-01-06        0.0             0  \n",
       "2021-01-07        0.0             0  "
      ]
     },
     "execution_count": 7,
     "metadata": {},
     "output_type": "execute_result"
    }
   ],
   "source": [
    "df.head()"
   ]
  },
  {
   "cell_type": "code",
   "execution_count": 8,
   "id": "d6fc3a39",
   "metadata": {},
   "outputs": [],
   "source": [
    "df = df.drop(['Dividends', 'Stock Splits'], axis = 1)"
   ]
  },
  {
   "cell_type": "code",
   "execution_count": 9,
   "id": "ad758874",
   "metadata": {},
   "outputs": [
    {
     "data": {
      "text/html": [
       "<div>\n",
       "<style scoped>\n",
       "    .dataframe tbody tr th:only-of-type {\n",
       "        vertical-align: middle;\n",
       "    }\n",
       "\n",
       "    .dataframe tbody tr th {\n",
       "        vertical-align: top;\n",
       "    }\n",
       "\n",
       "    .dataframe thead th {\n",
       "        text-align: right;\n",
       "    }\n",
       "</style>\n",
       "<table border=\"1\" class=\"dataframe\">\n",
       "  <thead>\n",
       "    <tr style=\"text-align: right;\">\n",
       "      <th></th>\n",
       "      <th>Open</th>\n",
       "      <th>High</th>\n",
       "      <th>Low</th>\n",
       "      <th>Close</th>\n",
       "      <th>Volume</th>\n",
       "    </tr>\n",
       "    <tr>\n",
       "      <th>Date</th>\n",
       "      <th></th>\n",
       "      <th></th>\n",
       "      <th></th>\n",
       "      <th></th>\n",
       "      <th></th>\n",
       "    </tr>\n",
       "  </thead>\n",
       "  <tbody>\n",
       "    <tr>\n",
       "      <th>2021-01-01</th>\n",
       "      <td>1433.794585</td>\n",
       "      <td>1436.781657</td>\n",
       "      <td>1414.478161</td>\n",
       "      <td>1418.909058</td>\n",
       "      <td>4405469</td>\n",
       "    </tr>\n",
       "    <tr>\n",
       "      <th>2021-01-04</th>\n",
       "      <td>1431.803143</td>\n",
       "      <td>1431.803143</td>\n",
       "      <td>1392.971208</td>\n",
       "      <td>1409.897949</td>\n",
       "      <td>7870096</td>\n",
       "    </tr>\n",
       "    <tr>\n",
       "      <th>2021-01-05</th>\n",
       "      <td>1413.084078</td>\n",
       "      <td>1424.584353</td>\n",
       "      <td>1402.928082</td>\n",
       "      <td>1420.551758</td>\n",
       "      <td>7193412</td>\n",
       "    </tr>\n",
       "    <tr>\n",
       "      <th>2021-01-06</th>\n",
       "      <td>1428.816025</td>\n",
       "      <td>1433.794478</td>\n",
       "      <td>1407.010377</td>\n",
       "      <td>1414.428345</td>\n",
       "      <td>11067025</td>\n",
       "    </tr>\n",
       "    <tr>\n",
       "      <th>2021-01-07</th>\n",
       "      <td>1426.326823</td>\n",
       "      <td>1426.426368</td>\n",
       "      <td>1406.462844</td>\n",
       "      <td>1410.146851</td>\n",
       "      <td>9947421</td>\n",
       "    </tr>\n",
       "  </tbody>\n",
       "</table>\n",
       "</div>"
      ],
      "text/plain": [
       "                   Open         High          Low        Close    Volume\n",
       "Date                                                                    \n",
       "2021-01-01  1433.794585  1436.781657  1414.478161  1418.909058   4405469\n",
       "2021-01-04  1431.803143  1431.803143  1392.971208  1409.897949   7870096\n",
       "2021-01-05  1413.084078  1424.584353  1402.928082  1420.551758   7193412\n",
       "2021-01-06  1428.816025  1433.794478  1407.010377  1414.428345  11067025\n",
       "2021-01-07  1426.326823  1426.426368  1406.462844  1410.146851   9947421"
      ]
     },
     "execution_count": 9,
     "metadata": {},
     "output_type": "execute_result"
    }
   ],
   "source": [
    "df.head()"
   ]
  },
  {
   "cell_type": "code",
   "execution_count": 10,
   "id": "bfad1bec",
   "metadata": {},
   "outputs": [
    {
     "name": "stdout",
     "output_type": "stream",
     "text": [
      "<class 'pandas.core.frame.DataFrame'>\n",
      "DatetimeIndex: 248 entries, 2021-01-01 to 2021-12-31\n",
      "Data columns (total 5 columns):\n",
      " #   Column  Non-Null Count  Dtype  \n",
      "---  ------  --------------  -----  \n",
      " 0   Open    248 non-null    float64\n",
      " 1   High    248 non-null    float64\n",
      " 2   Low     248 non-null    float64\n",
      " 3   Close   248 non-null    float64\n",
      " 4   Volume  248 non-null    int64  \n",
      "dtypes: float64(4), int64(1)\n",
      "memory usage: 11.6 KB\n"
     ]
    }
   ],
   "source": [
    "df.info()"
   ]
  },
  {
   "cell_type": "markdown",
   "id": "d38c4e26",
   "metadata": {},
   "source": [
    "### Adding the column \"Candle Color\" to the dataframe\n",
    "### Already inputing encoded values.\n",
    "* 1 - Green Candle\n",
    "* 0 - Red Candle"
   ]
  },
  {
   "cell_type": "code",
   "execution_count": 11,
   "id": "2ce67f82",
   "metadata": {},
   "outputs": [],
   "source": [
    "candle_color = []; "
   ]
  },
  {
   "cell_type": "code",
   "execution_count": 12,
   "id": "8a4d3ccb",
   "metadata": {},
   "outputs": [],
   "source": [
    "for row in df.index:\n",
    "    if(df[\"Open\"][row] > df[\"Close\"][row]):\n",
    "        candle_color.append(0)\n",
    "    else:\n",
    "        candle_color.append(1)"
   ]
  },
  {
   "cell_type": "code",
   "execution_count": 13,
   "id": "5ec50277",
   "metadata": {},
   "outputs": [],
   "source": [
    "df[\"Candle Color\"] = candle_color"
   ]
  },
  {
   "cell_type": "code",
   "execution_count": 14,
   "id": "969a1cef",
   "metadata": {},
   "outputs": [
    {
     "data": {
      "text/html": [
       "<div>\n",
       "<style scoped>\n",
       "    .dataframe tbody tr th:only-of-type {\n",
       "        vertical-align: middle;\n",
       "    }\n",
       "\n",
       "    .dataframe tbody tr th {\n",
       "        vertical-align: top;\n",
       "    }\n",
       "\n",
       "    .dataframe thead th {\n",
       "        text-align: right;\n",
       "    }\n",
       "</style>\n",
       "<table border=\"1\" class=\"dataframe\">\n",
       "  <thead>\n",
       "    <tr style=\"text-align: right;\">\n",
       "      <th></th>\n",
       "      <th>Open</th>\n",
       "      <th>High</th>\n",
       "      <th>Low</th>\n",
       "      <th>Close</th>\n",
       "      <th>Volume</th>\n",
       "      <th>Candle Color</th>\n",
       "    </tr>\n",
       "    <tr>\n",
       "      <th>Date</th>\n",
       "      <th></th>\n",
       "      <th></th>\n",
       "      <th></th>\n",
       "      <th></th>\n",
       "      <th></th>\n",
       "      <th></th>\n",
       "    </tr>\n",
       "  </thead>\n",
       "  <tbody>\n",
       "    <tr>\n",
       "      <th>2021-01-01</th>\n",
       "      <td>1433.794585</td>\n",
       "      <td>1436.781657</td>\n",
       "      <td>1414.478161</td>\n",
       "      <td>1418.909058</td>\n",
       "      <td>4405469</td>\n",
       "      <td>0</td>\n",
       "    </tr>\n",
       "    <tr>\n",
       "      <th>2021-01-04</th>\n",
       "      <td>1431.803143</td>\n",
       "      <td>1431.803143</td>\n",
       "      <td>1392.971208</td>\n",
       "      <td>1409.897949</td>\n",
       "      <td>7870096</td>\n",
       "      <td>0</td>\n",
       "    </tr>\n",
       "    <tr>\n",
       "      <th>2021-01-05</th>\n",
       "      <td>1413.084078</td>\n",
       "      <td>1424.584353</td>\n",
       "      <td>1402.928082</td>\n",
       "      <td>1420.551758</td>\n",
       "      <td>7193412</td>\n",
       "      <td>1</td>\n",
       "    </tr>\n",
       "    <tr>\n",
       "      <th>2021-01-06</th>\n",
       "      <td>1428.816025</td>\n",
       "      <td>1433.794478</td>\n",
       "      <td>1407.010377</td>\n",
       "      <td>1414.428345</td>\n",
       "      <td>11067025</td>\n",
       "      <td>0</td>\n",
       "    </tr>\n",
       "    <tr>\n",
       "      <th>2021-01-07</th>\n",
       "      <td>1426.326823</td>\n",
       "      <td>1426.426368</td>\n",
       "      <td>1406.462844</td>\n",
       "      <td>1410.146851</td>\n",
       "      <td>9947421</td>\n",
       "      <td>0</td>\n",
       "    </tr>\n",
       "  </tbody>\n",
       "</table>\n",
       "</div>"
      ],
      "text/plain": [
       "                   Open         High          Low        Close    Volume  \\\n",
       "Date                                                                       \n",
       "2021-01-01  1433.794585  1436.781657  1414.478161  1418.909058   4405469   \n",
       "2021-01-04  1431.803143  1431.803143  1392.971208  1409.897949   7870096   \n",
       "2021-01-05  1413.084078  1424.584353  1402.928082  1420.551758   7193412   \n",
       "2021-01-06  1428.816025  1433.794478  1407.010377  1414.428345  11067025   \n",
       "2021-01-07  1426.326823  1426.426368  1406.462844  1410.146851   9947421   \n",
       "\n",
       "            Candle Color  \n",
       "Date                      \n",
       "2021-01-01             0  \n",
       "2021-01-04             0  \n",
       "2021-01-05             1  \n",
       "2021-01-06             0  \n",
       "2021-01-07             0  "
      ]
     },
     "execution_count": 14,
     "metadata": {},
     "output_type": "execute_result"
    }
   ],
   "source": [
    "df.head()"
   ]
  },
  {
   "cell_type": "markdown",
   "id": "737e0b0a",
   "metadata": {},
   "source": [
    "### Adding the column \"Candle Pattern\" to the dataframe\n",
    "### Already inputing encoded values.\n",
    "* N - No pattern\n",
    "* H - Hammer \n",
    "* IH - Inverted Hammer \n",
    "* IN - Inside Candle \n",
    "* EN - Engulf \n",
    "* D - Dogi \n",
    "* PL - Piercing Line"
   ]
  },
  {
   "cell_type": "code",
   "execution_count": 15,
   "id": "9f2cb330",
   "metadata": {},
   "outputs": [],
   "source": [
    "candle_pattern = []\n",
    "body = []\n",
    "weak_high = []\n",
    "weak_low = []"
   ]
  },
  {
   "cell_type": "code",
   "execution_count": 44,
   "id": "a797c27c",
   "metadata": {},
   "outputs": [],
   "source": [
    "# for row in df.index:\n",
    "#     body = abs(df[\"Open\"][row] - df[\"Close\"][row])\n",
    "# #     weak_high = df[\"High\"][row] - df[\"Open\"][row]\n",
    "# #     weak_low = df[\"Close\"][row] - df[\"Low\"][row]\n",
    "#     candle_length = df[\"High\"][row] - df[\"Low\"][row]\n",
    "#     if(weak_high >= 2*(body)):\n",
    "#         print(\"IH\")\n",
    "#         print(row)\n",
    "#     elif(weak_low >= 2*(body)):\n",
    "#         print(\"H\")\n",
    "#         print(row)\n",
    "    "
   ]
  },
  {
   "cell_type": "code",
   "execution_count": 22,
   "id": "3fb01025",
   "metadata": {},
   "outputs": [
    {
     "name": "stdout",
     "output_type": "stream",
     "text": [
      "H\n",
      "2021-01-15 00:00:00\n",
      "H\n",
      "2021-02-03 00:00:00\n",
      "H\n",
      "2021-10-05 00:00:00\n",
      "H\n",
      "2021-11-29 00:00:00\n",
      "H\n",
      "2021-12-10 00:00:00\n"
     ]
    }
   ],
   "source": [
    "for row in df.index:\n",
    "    body = abs(df[\"Open\"][row] - df[\"Close\"][row])\n",
    "    if (df[\"Candle Color\"][row] == 1):\n",
    "        weak_high = df[\"High\"][row] - df[\"Close\"][row]\n",
    "        weak_low = df[\"Open\"][row] - df[\"Low\"][row]\n",
    "    else:\n",
    "        weak_high = df[\"High\"][row] - df[\"Open\"][row]\n",
    "        weak_low = df[\"Close\"][row] - df[\"Low\"][row]\n",
    "    \n",
    "    candle_length = df[\"High\"][row] - df[\"Low\"][row]\n",
    "    \n",
    "#     if((weak_low >= 3*(body)) and (body <= 0.2*(candle_length)) and (weak_high < 1.5*(body))):\n",
    "#         print(\"H\")\n",
    "#         print(row)\n",
    "    "
   ]
  },
  {
   "cell_type": "code",
   "execution_count": null,
   "id": "6bdf0cf9",
   "metadata": {},
   "outputs": [],
   "source": []
  },
  {
   "cell_type": "markdown",
   "id": "95715c82",
   "metadata": {},
   "source": [
    "### Formula for Simple moving average\n",
    "df['pandas_SMA_3'] = df.iloc[:,1].rolling(window=3).mean()\n",
    "\n",
    "### Formula for exponential moving average\n",
    "ema = stockValues.ewm(com=0.4).mean()"
   ]
  },
  {
   "cell_type": "code",
   "execution_count": null,
   "id": "88837d6b",
   "metadata": {},
   "outputs": [],
   "source": []
  },
  {
   "cell_type": "code",
   "execution_count": null,
   "id": "1f841035",
   "metadata": {},
   "outputs": [],
   "source": []
  }
 ],
 "metadata": {
  "kernelspec": {
   "display_name": "Python 3",
   "language": "python",
   "name": "python3"
  },
  "language_info": {
   "codemirror_mode": {
    "name": "ipython",
    "version": 3
   },
   "file_extension": ".py",
   "mimetype": "text/x-python",
   "name": "python",
   "nbconvert_exporter": "python",
   "pygments_lexer": "ipython3",
   "version": "3.8.8"
  }
 },
 "nbformat": 4,
 "nbformat_minor": 5
}
